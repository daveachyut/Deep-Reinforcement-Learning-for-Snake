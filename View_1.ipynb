{
 "cells": [
  {
   "cell_type": "code",
   "execution_count": 1,
   "metadata": {},
   "outputs": [
    {
     "name": "stdout",
     "output_type": "stream",
     "text": [
      "pygame 1.9.6\n",
      "Hello from the pygame community. https://www.pygame.org/contribute.html\n"
     ]
    }
   ],
   "source": [
    "# import pygame module in this program \n",
    "import pygame \n",
    "\n",
    "# activate the pygame library . \n",
    "# initiate pygame and give permission \n",
    "# to use pygame's functionality. \n",
    "pygame.init() \n",
    "\n",
    "# define the RGB value \n",
    "# for white colour \n",
    "white = (255, 255, 255) \n",
    "\n",
    "# assigning values to X and Y variable \n",
    "X = 400\n",
    "Y = 400\n",
    "\n",
    "# create the display surface object \n",
    "# of specific dimension..e(X, Y). \n",
    "display_surface = pygame.display.set_mode((X, Y )) \n",
    "\n",
    "# set the pygame window name \n",
    "pygame.display.set_caption('Image') \n",
    "\n",
    "# create a surface object, image is drawn on it. \n",
    "image = pygame.image.load(r'img\\wall_1.jpg') #240x30\n",
    "\n",
    "i=0\n",
    "# infinite loop \n",
    "while  i<100: \n",
    "\n",
    "    # completely fill the surface object \n",
    "    # with white colour \n",
    "    display_surface.fill(white) \n",
    "\n",
    "    # copying the image surface object \n",
    "    # to the display surface object at \n",
    "    # (0, 0) coordinate. \n",
    "    display_surface.blit(image, (0, 80))\n",
    "    # Draws the surface object to the screen.   \n",
    "    pygame.display.update()\n",
    "    i+=1"
   ]
  },
  {
   "cell_type": "code",
   "execution_count": null,
   "metadata": {},
   "outputs": [],
   "source": []
  }
 ],
 "metadata": {
  "kernelspec": {
   "display_name": "Python 3",
   "language": "python",
   "name": "python3"
  },
  "language_info": {
   "codemirror_mode": {
    "name": "ipython",
    "version": 3
   },
   "file_extension": ".py",
   "mimetype": "text/x-python",
   "name": "python",
   "nbconvert_exporter": "python",
   "pygments_lexer": "ipython3",
   "version": "3.7.3"
  }
 },
 "nbformat": 4,
 "nbformat_minor": 2
}
