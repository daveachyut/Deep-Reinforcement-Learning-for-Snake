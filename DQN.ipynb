{
 "cells": [
  {
   "cell_type": "code",
   "execution_count": 1,
   "metadata": {},
   "outputs": [
    {
     "name": "stderr",
     "output_type": "stream",
     "text": [
      "Using TensorFlow backend.\n"
     ]
    }
   ],
   "source": [
    "from keras.optimizers import Adam\n",
    "from keras.models import Sequential\n",
    "from keras.layers.core import Dense, Dropout\n",
    "import random\n",
    "import numpy as np\n",
    "import pandas as pd\n",
    "from operator import add\n",
    "from numba import vectorize\n",
    "\n",
    "\n",
    "\n",
    "class DQNAgent(object):\n",
    "\n",
    "    def __init__(self):\n",
    "        self.reward = 0\n",
    "        self.gamma = 0.9\n",
    "        self.dataframe = pd.DataFrame()\n",
    "        self.short_memory = np.array([])\n",
    "        self.agent_target = 1\n",
    "        self.agent_predict = 0\n",
    "        self.learning_rate = 0.0005\n",
    "        self.model = self.network()\n",
    "        #self.model = self.network(\"weights.hdf5\")\n",
    "        self.epsilon = 0\n",
    "        self.actual = []\n",
    "        self.memory = []\n",
    "\n",
    "    def get_state(self, game, player, food):\n",
    "\n",
    "        state = [\n",
    "            (player.x_change == 20 and player.y_change == 0 and ((list(map(add, player.position[-1], [20, 0])) in player.position) or\n",
    "            player.position[-1][0] + 20 >= (game.game_width - 20))) or (player.x_change == -20 and player.y_change == 0 and ((list(map(add, player.position[-1], [-20, 0])) in player.position) or\n",
    "            player.position[-1][0] - 20 < 20)) or (player.x_change == 0 and player.y_change == -20 and ((list(map(add, player.position[-1], [0, -20])) in player.position) or\n",
    "            player.position[-1][-1] - 20 < 20)) or (player.x_change == 0 and player.y_change == 20 and ((list(map(add, player.position[-1], [0, 20])) in player.position) or\n",
    "            player.position[-1][-1] + 20 >= (game.game_height-20))),  # danger straight\n",
    "\n",
    "            (player.x_change == 0 and player.y_change == -20 and ((list(map(add,player.position[-1],[20, 0])) in player.position) or\n",
    "            player.position[ -1][0] + 20 > (game.game_width-20))) or (player.x_change == 0 and player.y_change == 20 and ((list(map(add,player.position[-1],\n",
    "            [-20,0])) in player.position) or player.position[-1][0] - 20 < 20)) or (player.x_change == -20 and player.y_change == 0 and ((list(map(\n",
    "            add,player.position[-1],[0,-20])) in player.position) or player.position[-1][-1] - 20 < 20)) or (player.x_change == 20 and player.y_change == 0 and (\n",
    "            (list(map(add,player.position[-1],[0,20])) in player.position) or player.position[-1][\n",
    "             -1] + 20 >= (game.game_height-20))),  # danger right\n",
    "\n",
    "             (player.x_change == 0 and player.y_change == 20 and ((list(map(add,player.position[-1],[20,0])) in player.position) or\n",
    "             player.position[-1][0] + 20 > (game.game_width-20))) or (player.x_change == 0 and player.y_change == -20 and ((list(map(\n",
    "             add, player.position[-1],[-20,0])) in player.position) or player.position[-1][0] - 20 < 20)) or (player.x_change == 20 and player.y_change == 0 and (\n",
    "            (list(map(add,player.position[-1],[0,-20])) in player.position) or player.position[-1][-1] - 20 < 20)) or (\n",
    "            player.x_change == -20 and player.y_change == 0 and ((list(map(add,player.position[-1],[0,20])) in player.position) or\n",
    "            player.position[-1][-1] + 20 >= (game.game_height-20))), #danger left\n",
    "\n",
    "\n",
    "            player.x_change == -20,  # move left\n",
    "            player.x_change == 20,  # move right\n",
    "            player.y_change == -20,  # move up\n",
    "            player.y_change == 20,  # move down\n",
    "            food.x_food < player.x,  # food left\n",
    "            food.x_food > player.x,  # food right\n",
    "            food.y_food < player.y,  # food up\n",
    "            food.y_food > player.y  # food down\n",
    "            ]\n",
    "\n",
    "        for i in range(len(state)):\n",
    "            if state[i]:\n",
    "                state[i]=1\n",
    "            else:\n",
    "                state[i]=0\n",
    "\n",
    "        return np.asarray(state)\n",
    "\n",
    "    def set_reward(self, player, crash):\n",
    "        self.reward = 0\n",
    "        if crash:\n",
    "            self.reward = -10\n",
    "            return self.reward\n",
    "        if player.eaten:\n",
    "            self.reward = 10\n",
    "        return self.reward\n",
    "\n",
    "    def network(self, weights=None):\n",
    "        model = Sequential()\n",
    "        model.add(Dense(output_dim=120, activation='relu', input_dim=11))\n",
    "        model.add(Dropout(0.15))\n",
    "        model.add(Dense(output_dim=120, activation='relu'))\n",
    "        model.add(Dropout(0.15))\n",
    "        model.add(Dense(output_dim=120, activation='relu'))\n",
    "        model.add(Dropout(0.15))\n",
    "        model.add(Dense(output_dim=3, activation='softmax'))\n",
    "        opt = Adam(self.learning_rate)\n",
    "        model.compile(loss='mse', optimizer=opt)\n",
    "\n",
    "        if weights:\n",
    "            model.load_weights(weights)\n",
    "            #print(type(weights))\n",
    "        return model\n",
    "\n",
    "    def remember(self, state, action, reward, next_state, done):\n",
    "        self.memory.append((state, action, reward, next_state, done))\n",
    "\n",
    "    def replay_new(self, memory):\n",
    "        if len(memory) > 1000:\n",
    "            minibatch = random.sample(memory, 1000)\n",
    "        else:\n",
    "            minibatch = memory\n",
    "        for state, action, reward, next_state, done in minibatch:\n",
    "            target = reward\n",
    "            if not done:\n",
    "                target = reward + self.gamma * np.amax(self.model.predict(np.array([next_state]))[0])\n",
    "            target_f = self.model.predict(np.array([state]))\n",
    "            target_f[0][np.argmax(action)] = target\n",
    "            self.model.fit(np.array([state]), target_f, epochs=1, verbose=0)\n",
    "\n",
    "    def train_short_memory(self, state, action, reward, next_state, done):\n",
    "        target = reward\n",
    "        if not done:\n",
    "            target = reward + self.gamma * np.amax(self.model.predict(next_state.reshape((1, 11)))[0])\n",
    "        target_f = self.model.predict(state.reshape((1, 11)))\n",
    "        target_f[0][np.argmax(action)] = target\n",
    "        self.model.fit(state.reshape((1, 11)), target_f, epochs=1, verbose=0)"
   ]
  },
  {
   "cell_type": "code",
   "execution_count": 8,
   "metadata": {},
   "outputs": [
    {
     "data": {
      "text/plain": [
       "[40, 0]"
      ]
     },
     "execution_count": 8,
     "metadata": {},
     "output_type": "execute_result"
    }
   ],
   "source": [
    "list(map(add,[20,0],[20,0]))"
   ]
  },
  {
   "cell_type": "code",
   "execution_count": 124,
   "metadata": {},
   "outputs": [],
   "source": [
    "A=[]\n",
    "A.append([220,80])\n",
    "x_=0\n",
    "y_=-20\n",
    "g_w=440\n",
    "g_h=440"
   ]
  },
  {
   "cell_type": "code",
   "execution_count": null,
   "metadata": {},
   "outputs": [],
   "source": [
    "(player.x_change == 20 and player.y_change == 0 and ((list(map(add, player.position[-1], [20, 0])) in player.position) or\n",
    "(player.position[-1][0] + 20) >= (game.game_width - 20) or (player.position[-1][1] == food.y_non_food and (player.position[-1][0] + 20) == food.x_non_food))) or (player.x_change == -20 and player.y_change == 0 and ((list(map(add, player.position[-1], [-20, 0])) in player.position)) or\n",
    "(player.position[-1][0] - 20) < 20 or (player.position[-1][1] >=80 and player.position[-1][1]<=120 and player.position[-1][0] - 20 <= 240) or (player.position[-1][1] == food.y_non_food and (player.position[-1][0] - 20) == food.x_non_food)) or (player.x_change == 0 and player.y_change == -20 and ((list(map(add, player.position[-1], [0, -20])) in player.position)) or\n",
    "(player.position[-1][-1] - 20) < 20 or (player.position[-1][0]<=240 and player.position[-1][1] - 20 <= 120 and player.position[-1][1] - 20 >= 80) or (player.position[-1][0] == food.x_non_food and (player.position[-1][1] - 20) == food.y_non_food)) or (player.x_change == 0 and player.y_change == 20 and ((list(map(add, player.position[-1], [0, 20])) in player.position) or\n",
    "(player.position[-1][-1] + 20) >= (game.game_height-20) or (player.position[-1][0]<=240 and player.position[-1][1] + 20 <= 120 and player.position[-1][1] + 20 >= 80) or (player.position[-1][0] == food.x_non_food and (player.position[-1][1] + 20) == food.y_non_food)))"
   ]
  },
  {
   "cell_type": "code",
   "execution_count": null,
   "metadata": {},
   "outputs": [],
   "source": [
    "(player.x_change == 0 and player.y_change == -20 and ((list(map(add,player.position[-1],[20, 0])) in player.position) or\n",
    "player.position[ -1][0] + 20 > (game.game_width-20) or (player.position[-1][0] == food.x_non_food and (player.position[-1][1] - 20) == food.y_non_food))) or (player.x_change == 0 and player.y_change == 20 and ((list(map(add,player.position[-1], [-20,0])) in player.position) or\n",
    "player.position[-1][0] - 20 < 20 or (player.position[-1][1] +20>=80 and player.position[-1][1] +20<=120 and player.position[-1][0]<= 240) or (player.position[-1][0] == food.x_non_food and (player.position[-1][1] + 20) == food.y_non_food))) or (player.x_change == -20 and player.y_change == 0 and ((list(map(add,player.position[-1],[0,-20])) in player.position) or\n",
    "player.position[-1][-1] - 20 < 20 or (player.position[-1][0] -20<=240 and player.position[-1][1]<= 120 and player.position[-1][1]>= 80) or (player.position[-1][1] == food.y_non_food and (player.position[-1][0] - 20) == food.x_non_food))) or (player.x_change == 20 and player.y_change == 0 and ((list(map(add,player.position[-1],[0,20])) in player.position) or\n",
    "player.position[-1][-1] + 20 >= (game.game_height-20) or (player.position[-1][0] +20<=240 and player.position[-1][1]<= 120 and player.position[-1][1]>= 80) or (player.position[-1][1] == food.y_non_food and (player.position[-1][0] + 20) == food.x_non_food)))"
   ]
  },
  {
   "cell_type": "code",
   "execution_count": null,
   "metadata": {},
   "outputs": [],
   "source": [
    "(player.x_change == 0 and player.y_change == 20 and ((list(map(add,player.position[-1],[20,0])) in player.position) or player.position[-1][0] + 20 > (game.game_width-20))) or (player.x_change == 0 and player.y_change == -20 and\n",
    "((list(map(add, player.position[-1],[-20,0])) in player.position) or player.position[-1][0] - 20 < 20 or (player.position[-1][0] >=240 and player.position[-1][1] - 20 <=120 and player.position[-1][0] - 20 >= 80))) or (player.x_change == 20\n",
    "and player.y_change == 0 and ((list(map(add,player.position[-1],[0,-20])) in player.position) or player.position[-1][-1] - 20 < 20 or (player.position[-1][0] >=0 and player.position[-1][0]<=240 and player.position[-1][1] - 20 <= 120 and\n",
    "player.position[-1][1] - 20 >= 80))) or (player.x_change == -20 and player.y_change == 0 and ((list(map(add,player.position[-1],[0,20])) in player.position) or player.position[-1][-1] + 20 >= (game.game_height-20) or (player.position[-1][0] >=0 and\n",
    "player.position[-1][0]<=240 and player.position[-1][1] + 20 <= 120 and player.position[-1][1] + 20 >= 80)))"
   ]
  },
  {
   "cell_type": "code",
   "execution_count": null,
   "metadata": {},
   "outputs": [],
   "source": [
    "(player.x_change == 0 and player.y_change == 20 and ((list(map(add,player.position[-1],[20,0])) in player.position) or player.position[-1][0] + 20 > (game.game_width-20) or (player.position[-1][1] == food.y_non_food and (player.position[-1][0] + 20) == food.x_non_food))) or (player.x_change == 0 and player.y_change == -20 and\n",
    "((list(map(add, player.position[-1],[-20,0])) in player.position) or player.position[-1][0] - 20 < 20 or (player.position[-1][0] - 20 >=240 and player.position[-1][1]<=120 and player.position[-1][1]>= 80) or (player.position[-1][1] == food.y_non_food and (player.position[-1][0] - 20) == food.x_non_food))) or (player.x_change == 20\n",
    "and player.y_change == 0 and ((list(map(add,player.position[-1],[0,-20])) in player.position) or player.position[-1][-1] - 20 < 20 or (player.position[-1][0]<=240 and player.position[-1][1] - 20 <= 120 and\n",
    "player.position[-1][1] - 20 >= 80) or (player.position[-1][0] == food.x_non_food and (player.position[-1][1] - 20) == food.y_non_food))) or (player.x_change == -20 and player.y_change == 0 and ((list(map(add,player.position[-1],[0,20])) in player.position) or player.position[-1][-1] + 20 >= (game.game_height-20) or (player.position[-1][0]<=240 and player.position[-1][1] + 20 <= 120 and player.position[-1][1] + 20 >= 80) or (player.position[-1][0] == food.x_non_food and (player.position[-1][1] + 20) == food.y_non_food)))"
   ]
  },
  {
   "cell_type": "code",
   "execution_count": null,
   "metadata": {},
   "outputs": [],
   "source": [
    " or (player.position[-1][1] == food.y_non_food and (player.position[-1][0] + 20) == food.x_non_food)"
   ]
  },
  {
   "cell_type": "code",
   "execution_count": null,
   "metadata": {},
   "outputs": [],
   "source": []
  }
 ],
 "metadata": {
  "kernelspec": {
   "display_name": "Python 3",
   "language": "python",
   "name": "python3"
  },
  "language_info": {
   "codemirror_mode": {
    "name": "ipython",
    "version": 3
   },
   "file_extension": ".py",
   "mimetype": "text/x-python",
   "name": "python",
   "nbconvert_exporter": "python",
   "pygments_lexer": "ipython3",
   "version": "3.7.3"
  }
 },
 "nbformat": 4,
 "nbformat_minor": 2
}
